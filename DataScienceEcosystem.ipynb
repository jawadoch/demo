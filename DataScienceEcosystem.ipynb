{
 "cells": [
  {
   "cell_type": "markdown",
   "id": "cce45f1b-8f31-4767-87fc-46b9496be953",
   "metadata": {},
   "source": [
    "## Create markdown cell with title of the notebook"
   ]
  },
  {
   "cell_type": "markdown",
   "id": "3ebd0239-79dc-403f-99f1-fb4a4e07c853",
   "metadata": {},
   "source": [
    "## Data Science Tools and Ecosystem"
   ]
  },
  {
   "cell_type": "markdown",
   "id": "f0660632-1302-4e5c-bb29-6ff50cb4493f",
   "metadata": {},
   "source": [
    "## Create a markdown cell for an introduction"
   ]
  },
  {
   "cell_type": "markdown",
   "id": "3a58e67b-c59a-4cc5-8b1f-e66bcdc3d644",
   "metadata": {},
   "source": [
    "## In this notebook, Data Science Tools and Ecosystem are summarized."
   ]
  },
  {
   "cell_type": "markdown",
   "id": "cf092e72-bdeb-4704-bbda-f4ffa4bbf646",
   "metadata": {},
   "source": [
    "## Create a markdown cell to list data science languages"
   ]
  },
  {
   "cell_type": "markdown",
   "id": "5f5f3e6e-ffec-42d9-9496-7d30d5139643",
   "metadata": {},
   "source": [
    "Some of the popular languages that Data Scientists use are:\n",
    "\n",
    "ordered list\n",
    "\n",
    "Python: One of the most popular languages for data science, known for its simplicity and wide range of libraries and frameworks for data analysis, machine learning, and visualization.\n",
    "\n",
    "R: Another popular language specifically designed for statistical computing and data visualization.\n",
    "\n",
    "SQL: Used for database management, data querying and manipulation.\n",
    "\n",
    "Java: A popular general-purpose programming language, also used in big data frameworks like Apache Hadoop and Apache Spark.\n",
    "\n",
    "Scala: Another language used in big data frameworks like Apache Spark, known for its concise syntax and functional programming capabilities.\n",
    "\n",
    "Julia: A relatively new language designed specifically for scientific computing, with fast performance and a syntax similar to MATLAB.\n",
    "\n",
    "MATLAB: A proprietary language and environment commonly used in engineering and scientific research, particularly for numerical analysis and data visualization.\n",
    "\n",
    "SAS: A proprietary language and software suite commonly used for data analysis and statistical modeling in business and healthcare.\n",
    "\n",
    "Julia: A language used for scientific computing, data visualization, and data analysis.\n",
    "\n",
    "Perl: A high-level, general-purpose programming language that can also be used for data analysis and manipulation."
   ]
  },
  {
   "cell_type": "markdown",
   "id": "88638727-95d8-410c-8fcc-e2246eee7927",
   "metadata": {},
   "source": [
    "##  Create a markdown cell to list data science libraries"
   ]
  },
  {
   "cell_type": "markdown",
   "id": "756431c0-76d7-4f8c-81ec-3dc5cf326d59",
   "metadata": {},
   "source": [
    "Some of the commonly used libraries used by Data Scientists include:\n",
    "    \n",
    "ordered list\n",
    "\n",
    "NumPy: A library for numerical computing, providing support for arrays and matrices.\n",
    "\n",
    "Pandas: A library for data manipulation and analysis, providing tools for reading and writing data, data cleaning and transformation, and data visualization.\n",
    "\n",
    "Matplotlib: A library for data visualization, providing support for creating a wide range of graphs and charts.\n",
    "\n",
    "Scikit-learn: A library for machine learning, providing support for classification, regression, clustering, and other techniques.\n",
    "\n",
    "TensorFlow: A library for deep learning, providing support for building and training neural networks.\n",
    "\n",
    "PyTorch: Another library for deep learning, providing support for building and training neural networks with a focus on dynamic computational graphs.\n",
    "\n",
    "Keras: A high-level API for building and training neural networks, which can use either TensorFlow or Theano as a backend.\n",
    "\n",
    "Seaborn: A library for data visualization, providing support for creating more complex and aesthetically pleasing visualizations.\n",
    "\n",
    "Statsmodels: A library for statistical modeling, providing support for regression analysis, time series analysis, and other techniques.\n",
    "\n",
    "NLTK: A library for natural language processing, providing support for tasks such as text classification, sentiment analysis, and language modeling.\n",
    "\n"
   ]
  },
  {
   "cell_type": "markdown",
   "id": "c1a6d645-cc65-456d-a59c-e558d1088b3b",
   "metadata": {},
   "source": [
    "##  Create a markdown cell with a table of Data Science tools"
   ]
  },
  {
   "cell_type": "markdown",
   "id": "bdb565cc-f26f-4bec-8f53-8ab21f511c3e",
   "metadata": {},
   "source": [
    "| Data Science Tools |\n",
    "|---|\n",
    "| Python  | \n",
    "| R  | \n",
    "|  SQL | \n",
    "|  Apache Hadoop | \n",
    "|  Apache Spark |  \n",
    "|  TensorFlow |\n",
    "|PyTorch   | "
   ]
  },
  {
   "cell_type": "markdown",
   "id": "53b1d34b-d249-4e0d-80be-b8786418f351",
   "metadata": {},
   "source": [
    "### Create a markdown cell introducing arithmetic expression examples"
   ]
  },
  {
   "cell_type": "code",
   "execution_count": null,
   "id": "4d80e794-81ec-4e81-9757-40d238cefb32",
   "metadata": {},
   "outputs": [],
   "source": [
    "## "
   ]
  },
  {
   "cell_type": "markdown",
   "id": "993ed82a-17e6-4195-aa0c-61773bf3faa0",
   "metadata": {},
   "source": [
    " ## Create a code cell to multiply and add numbers."
   ]
  },
  {
   "cell_type": "code",
   "execution_count": 6,
   "id": "b08fe637-2b5a-44ca-9456-ce4ca8667c52",
   "metadata": {},
   "outputs": [
    {
     "data": {
      "text/plain": [
       "17"
      ]
     },
     "execution_count": 6,
     "metadata": {},
     "output_type": "execute_result"
    }
   ],
   "source": [
    "# This a simple arithmetic expression to mutiply then add integers\n",
    "(3*4)+5"
   ]
  },
  {
   "cell_type": "markdown",
   "id": "6554305b-fef3-40f4-aaa7-d8450ca27e4e",
   "metadata": {},
   "source": [
    "## Create a code cell to convert minutes to hours. "
   ]
  },
  {
   "cell_type": "code",
   "execution_count": 7,
   "id": "eb554651-9a7d-42f9-9576-618b4355915e",
   "metadata": {},
   "outputs": [
    {
     "name": "stdout",
     "output_type": "stream",
     "text": [
      "3.3333333333333335\n"
     ]
    }
   ],
   "source": [
    "#This will convert 200 minutes to hours by diving by 60\n",
    "minutes = 200\n",
    "hours = minutes / 60\n",
    "\n",
    "print(hours)\n"
   ]
  },
  {
   "cell_type": "markdown",
   "id": "0356be1d-ff21-4139-85ea-e7d61f1719b6",
   "metadata": {},
   "source": [
    "##  Insert a markdown cell to list Objectives"
   ]
  },
  {
   "cell_type": "markdown",
   "id": "cf2e3ad4-97da-48ca-9102-b09de688f655",
   "metadata": {},
   "source": [
    "**Objectives:** \n",
    "\n",
    "unordered list\n",
    "\n",
    "List of popular languages for Data Science: The notebook includes a list of commonly used programming languages in Data Science, such as Python, R, and Julia. It also provides a brief overview of their strengths and weaknesses.\n",
    "\n",
    "Introduction to common Data Science libraries: The notebook briefly introduces popular libraries used in Data Science such as NumPy, Pandas, Matplotlib, and Scikit-learn, and provides a brief explanation of their main features.\n",
    "\n",
    "Introduction to arithmetic expressions: The notebook includes an example of arithmetic expressions, which are mathematical expressions that use arithmetic operators to perform calculations. The examples cover addition, subtraction, multiplication, division, and exponentiation.\n",
    "\n",
    "Example code cell for performing calculations: The notebook includes an example code cell that demonstrates how to perform calculations using variables and operators.\n",
    "\n",
    "Example code cell for converting minutes to hours: The notebook includes an example code cell that shows how to convert minutes to hours using simple arithmetic operations."
   ]
  },
  {
   "cell_type": "markdown",
   "id": "a95bc672-489f-4033-885a-5b1f626440ff",
   "metadata": {},
   "source": [
    "## Create a markdown cell to indicate the Author's name"
   ]
  },
  {
   "cell_type": "markdown",
   "id": "7863f9a1-1611-426b-9241-e77b99034bc9",
   "metadata": {},
   "source": [
    "## Author\n",
    "\n",
    "JAOUAD OUCHBAR\n",
    "\n",
    "Lakshmi Holla\n",
    "\n",
    "Niveditha Pandith"
   ]
  },
  {
   "cell_type": "code",
   "execution_count": null,
   "id": "dbaf098f-c23d-417b-b8af-69188916eeb3",
   "metadata": {},
   "outputs": [],
   "source": []
  }
 ],
 "metadata": {
  "kernelspec": {
   "display_name": "Python",
   "language": "python",
   "name": "conda-env-python-py"
  },
  "language_info": {
   "codemirror_mode": {
    "name": "ipython",
    "version": 3
   },
   "file_extension": ".py",
   "mimetype": "text/x-python",
   "name": "python",
   "nbconvert_exporter": "python",
   "pygments_lexer": "ipython3",
   "version": "3.7.12"
  }
 },
 "nbformat": 4,
 "nbformat_minor": 5
}
